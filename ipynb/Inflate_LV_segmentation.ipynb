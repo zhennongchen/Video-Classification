{
 "cells": [
  {
   "cell_type": "code",
   "execution_count": 1,
   "metadata": {},
   "outputs": [
    {
     "name": "stdout",
     "output_type": "stream",
     "text": [
      "ok\n"
     ]
    }
   ],
   "source": [
    "import function_list as ff\n",
    "import os\n",
    "import numpy as np\n",
    "import nibabel as nib \n",
    "import math\n",
    "from scipy import misc\n",
    "import matplotlib.pyplot as plt\n",
    "from PIL import Image\n",
    "import cv2\n",
    "print('ok')"
   ]
  },
  {
   "cell_type": "code",
   "execution_count": 2,
   "metadata": {},
   "outputs": [],
   "source": [
    "base_dir = '/Volumes/McVeighLab/projects/Zhennong/AI/CNN/all-classes-all-phases-1.5'\n",
    "patient_list = ff.find_all_target_files(['ucsd_toshiba/000'],base_dir)"
   ]
  },
  {
   "cell_type": "code",
   "execution_count": 3,
   "metadata": {},
   "outputs": [
    {
     "name": "stdout",
     "output_type": "stream",
     "text": [
      "ucsd_toshiba 000\n"
     ]
    }
   ],
   "source": [
    "# load plane information\n",
    "for patient in patient_list:\n",
    "    patient_id = os.path.basename(patient)\n",
    "    patient_class = os.path.basename(os.path.dirname(patient))\n",
    "    print(patient_class,patient_id)\n",
    "\n",
    "\n",
    "    mpr_planes = nib.load(os.path.join(patient,'mpr-new-nii-sm-1.5/2C/0.nii.gz')) \n",
    "    mpr_data = mpr_planes.get_fdata()\n",
    "    \n",
    "    seg = nib.load(os.path.join(patient,'seg-nii-sm/0.nii.gz')); seg_data = seg.get_fdata()\n",
    "    volume = nib.load(os.path.join(patient,'img-nii-sm/0.nii.gz')); volume_data = volume.get_fdata()\n",
    "    \n",
    "    # ground truth vectors\n",
    "    vector_4C = ff.get_ground_truth_vectors(patient,'4C_MR.npy')\n",
    "    vector_SA = ff.get_ground_truth_vectors(patient,'BASAL_MR.npy')\n",
    "    image_center = vector_SA['img_center']\n",
    "    \n",
    "    # get a list of center points of SA stack, the orientation keeps constant\n",
    "    n = ff.normalize(np.cross(vector_SA['x'],vector_SA['y']))\n",
    "    ahead,behind = ff.find_num_of_slices_in_SAX(mpr_data,image_center,vector_SA['t'],vector_SA['x'],vector_SA['y'],seg_data,8)\n",
    "    center_list = ff.find_center_list_whole_stack_upsampled(image_center+vector_SA['t'],n,ahead,behind,1.5,default_thickness = 8)\n",
    "    \n",
    "    # get affine matrix\n",
    "    volume_affine = ff.check_affine(os.path.join(patient,'img-nii-sm/0.nii.gz'))\n",
    "    A_4C_gt = ff.get_affine_from_vectors(mpr_data,volume_affine,vector_4C)"
   ]
  },
  {
   "cell_type": "markdown",
   "metadata": {},
   "source": [
    "## Find surface points"
   ]
  },
  {
   "cell_type": "code",
   "execution_count": 12,
   "metadata": {},
   "outputs": [],
   "source": [
    "# define a function for surface point search\n",
    "def surface_point_search(seg,target_val):\n",
    "    count,p_list = ff.count_pixel(seg,target_val)\n",
    "    p_list = np.asarray(p_list).reshape((count,3))\n",
    "    \n",
    "    s_list = []\n",
    "    for p in p_list:\n",
    "        neighbour_no = 0\n",
    "        for i in [-1,0,1]:\n",
    "            for j in [-1,0,1]:\n",
    "                for k in [-1,0,1]:\n",
    "                    if seg[p[0]+i,p[1]+j,p[-1]+k] == 1:\n",
    "                        neighbour_no += 1\n",
    "        if neighbour_no != 27:\n",
    "            s_list.append(p)\n",
    "        l = len(s_list)\n",
    "    return np.asarray(s_list).reshape((l,3))\n",
    "            "
   ]
  },
  {
   "cell_type": "code",
   "execution_count": 13,
   "metadata": {},
   "outputs": [
    {
     "name": "stdout",
     "output_type": "stream",
     "text": [
      "32283 (11772, 3)\n"
     ]
    }
   ],
   "source": [
    "count,p_list = ff.count_pixel(seg_data,1)\n",
    "s_list = surface_point_search(seg_data,1)\n",
    "print(count,s_list.shape)"
   ]
  },
  {
   "cell_type": "code",
   "execution_count": 14,
   "metadata": {},
   "outputs": [],
   "source": [
    "new_seg = np.zeros((seg_data.shape))\n",
    "for p in p_list:\n",
    "    new_seg[p[0],p[1],p[-1]] = 1\n",
    "for s in s_list:\n",
    "    new_seg[s[0],s[1],s[-1]] = 2\n",
    "new_image = nib.Nifti1Image(new_seg,seg.affine)\n",
    "save_path = '/Volumes/McVeighLab/projects/Zhennong/Video Prediction/Test_Data/LV'\n",
    "nib.save(new_image,os.path.join(save_path,'surface.nii'))"
   ]
  },
  {
   "cell_type": "markdown",
   "metadata": {},
   "source": [
    "## Inflate the LV segmentation"
   ]
  },
  {
   "cell_type": "code",
   "execution_count": 39,
   "metadata": {},
   "outputs": [],
   "source": [
    "i_list = []\n",
    "inflate_range = 3\n",
    "for s in s_list:\n",
    "    for i in np.linspace(-inflate_range,inflate_range,inflate_range * 2 +1):\n",
    "        for j in np.linspace(-inflate_range,inflate_range,inflate_range * 2 +1):\n",
    "            for k in np.linspace(-inflate_range,inflate_range,inflate_range * 2 +1):\n",
    "                i_list.append([s[0]+i,s[1]+j,s[-1]+k])\n",
    "        "
   ]
  },
  {
   "cell_type": "code",
   "execution_count": 40,
   "metadata": {},
   "outputs": [
    {
     "name": "stdout",
     "output_type": "stream",
     "text": [
      "(64416, 3)\n"
     ]
    }
   ],
   "source": [
    "i_list = np.asarray(i_list).reshape((len(i_list),3))\n",
    "i_list = np.unique(i_list,axis = 0)\n",
    "print(i_list.shape)"
   ]
  },
  {
   "cell_type": "code",
   "execution_count": 41,
   "metadata": {},
   "outputs": [],
   "source": [
    "new_seg2 = np.zeros((seg_data.shape))\n",
    "for i in i_list:\n",
    "    new_seg2[int(i[0]),int(i[1]),int(i[-1])] = 3\n",
    "for p in p_list:\n",
    "    new_seg2[p[0],p[1],p[-1]] = 1\n",
    "for s in s_list:\n",
    "    new_seg2[s[0],s[1],s[-1]] = 2\n",
    "new_image2 = nib.Nifti1Image(new_seg2,seg.affine)\n",
    "nib.save(new_image2,os.path.join(save_path,'inflate.nii'))"
   ]
  },
  {
   "cell_type": "code",
   "execution_count": null,
   "metadata": {},
   "outputs": [],
   "source": []
  }
 ],
 "metadata": {
  "kernelspec": {
   "display_name": "Python 3",
   "language": "python",
   "name": "python3"
  },
  "language_info": {
   "codemirror_mode": {
    "name": "ipython",
    "version": 3
   },
   "file_extension": ".py",
   "mimetype": "text/x-python",
   "name": "python",
   "nbconvert_exporter": "python",
   "pygments_lexer": "ipython3",
   "version": "3.6.10"
  }
 },
 "nbformat": 4,
 "nbformat_minor": 4
}
