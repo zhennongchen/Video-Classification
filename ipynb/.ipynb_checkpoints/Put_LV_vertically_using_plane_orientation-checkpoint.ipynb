{
 "cells": [
  {
   "cell_type": "code",
   "execution_count": 59,
   "metadata": {},
   "outputs": [
    {
     "name": "stdout",
     "output_type": "stream",
     "text": [
      "ok\n"
     ]
    }
   ],
   "source": [
    "import function_list as ff\n",
    "import os\n",
    "import numpy as np\n",
    "import nibabel as nib \n",
    "import math\n",
    "from scipy import misc\n",
    "import matplotlib.pyplot as plt\n",
    "from PIL import Image\n",
    "import cv2\n",
    "print('ok')"
   ]
  },
  {
   "cell_type": "code",
   "execution_count": 60,
   "metadata": {},
   "outputs": [],
   "source": [
    "base_dir = '/Volumes/McVeighLab/projects/Zhennong/AI/CNN/all-classes-all-phases-1.5'\n",
    "patient_list = ff.find_all_target_files(['ucsd_toshiba/000'],base_dir)"
   ]
  },
  {
   "cell_type": "code",
   "execution_count": 147,
   "metadata": {},
   "outputs": [
    {
     "name": "stdout",
     "output_type": "stream",
     "text": [
      "ucsd_toshiba 000\n"
     ]
    }
   ],
   "source": [
    "# load plane information\n",
    "for patient in patient_list:\n",
    "    patient_id = os.path.basename(patient)\n",
    "    patient_class = os.path.basename(os.path.dirname(patient))\n",
    "    print(patient_class,patient_id)\n",
    "\n",
    "\n",
    "    mpr_planes = nib.load(os.path.join(patient,'mpr-new-nii-sm-1.5/2C/0.nii.gz')) \n",
    "    mpr_data = mpr_planes.get_fdata()\n",
    "    \n",
    "    seg = nib.load(os.path.join(patient,'seg-nii-sm/0.nii.gz')); seg_data = seg.get_fdata()\n",
    "    volume = nib.load(os.path.join(patient,'img-nii-sm/0.nii.gz')); volume_data = volume.get_fdata()\n",
    "    \n",
    "    # ground truth vectors\n",
    "    vector_4C = ff.get_ground_truth_vectors(patient,'4C_MR.npy')\n",
    "    vector_SA = ff.get_ground_truth_vectors(patient,'BASAL_MR.npy')\n",
    "    image_center = vector_SA['img_center']\n",
    "    \n",
    "    # get a list of center points of SA stack, the orientation keeps constant\n",
    "    n = ff.normalize(np.cross(vector_SA['x'],vector_SA['y']))\n",
    "    ahead,behind = ff.find_num_of_slices_in_SAX(mpr_data,image_center,vector_SA['t'],vector_SA['x'],vector_SA['y'],seg_data,8)\n",
    "    center_list = ff.find_center_list_whole_stack_upsampled(image_center+vector_SA['t'],n,ahead,behind,1.5,default_thickness = 8)\n",
    "    \n",
    "    # get affine matrix\n",
    "    volume_affine = ff.check_affine(os.path.join(patient,'img-nii-sm/0.nii.gz'))\n",
    "    A_4C_gt = ff.get_affine_from_vectors(mpr_data,volume_affine,vector_4C)"
   ]
  },
  {
   "cell_type": "code",
   "execution_count": 62,
   "metadata": {},
   "outputs": [],
   "source": [
    "save_path = '/Volumes/McVeighLab/projects/Zhennong/Video Prediction/Test_Data/LV'"
   ]
  },
  {
   "cell_type": "code",
   "execution_count": null,
   "metadata": {},
   "outputs": [],
   "source": [
    "inter = ff.define_interpolation(volume_data,Fill_value=volume_data.min(),Method='linear')\n",
    "mpr_shape = mpr_data.shape\n",
    "sa_stack = np.zeros((mpr_shape[0],mpr_shape[1],center_list.shape[0]))\n",
    "\n",
    "for i in range(0,center_list.shape[0]):\n",
    "    sa_raw = ff.reslice_mpr(mpr_data,center_list[i],vector_SA['x'],vector_SA['y'],1,1,inter)\n",
    "    sa_stack[:,:,i] = sa_raw[:,:,0]\n",
    "    \n",
    "    sa = ff.set_window(sa_raw,500,900)\n",
    "    # save as image\n",
    "    ii = np.zeros((mpr_shape[0],mpr_shape[1],3))\n",
    "    ii[0:mpr_shape[0],0:mpr_shape[1],0] = sa.T\n",
    "    ii[0:mpr_shape[0],0:mpr_shape[1],1] = sa.T\n",
    "    ii[0:mpr_shape[0],0:mpr_shape[1],2] = sa.T\n",
    "    \n",
    "    #Image.fromarray((ii * 255).astype('uint8')).save(os.path.join(save_path,str(i)+'.png'))\n",
    "    \n",
    "print(sa_stack.shape)                                                   "
   ]
  },
  {
   "cell_type": "code",
   "execution_count": 63,
   "metadata": {},
   "outputs": [],
   "source": [
    "pngs = ff.sort_timeframe(ff.find_all_target_files(['*.png'],save_path),1)\n",
    "\n",
    "make_movies(os.path.join(save_path,patient_class+'_'+patient_id+'_SAX.avi'),pngs)"
   ]
  },
  {
   "cell_type": "markdown",
   "metadata": {},
   "source": [
    "## Rotate the image to show particular wall"
   ]
  },
  {
   "cell_type": "code",
   "execution_count": 207,
   "metadata": {},
   "outputs": [
    {
     "data": {
      "text/plain": [
       "<matplotlib.image.AxesImage at 0xb348a70b8>"
      ]
     },
     "execution_count": 207,
     "metadata": {},
     "output_type": "execute_result"
    },
    {
     "data": {
      "image/png": "[encoded data removed]",
      "text/plain": [
       "<Figure size 432x288 with 1 Axes>"
      ]
     },
     "metadata": {
      "needs_background": "light"
     },
     "output_type": "display_data"
    }
   ],
   "source": [
    "# now try to rotate the stack so that a particular wall is in 6 o'clock\n",
    "inter = ff.define_interpolation(seg_data,Fill_value=seg_data.min(),Method='nearest')\n",
    "fourc = ff.reslice_mpr(mpr_data,vector_4C['t'] + image_center,vector_4C['x'],vector_4C['y'],1,1,inter)\n",
    "ii = int(sa_stack.shape[-1] / 2)\n",
    "sa_slice = ff.reslice_mpr(mpr_data,center_list[ii],vector_SA['x'],vector_SA['y'],1,1,inter)\n",
    "A_sa_slice = ff.get_affine_from_vectors(mpr_data,volume_affine,ff.sa_affine(center_list[ii],image_center,vector_SA))\n",
    "plt.imshow(fourc[:,:,0],cmap='gray')"
   ]
  },
  {
   "cell_type": "code",
   "execution_count": 208,
   "metadata": {},
   "outputs": [
    {
     "name": "stdout",
     "output_type": "stream",
     "text": [
      "[ 0.99262265 -0.12124473  0.        ]\n",
      "[ 12.76817526 104.53221542  -0.        ] [84.87772926 93.06113537  0.        ] [  6.81243939 105.25968378  -0.        ]\n"
     ]
    }
   ],
   "source": [
    "# find the intersection between lax and sax\n",
    "_,intersect_direct,intersect_point = ff.draw_plane_intersection(fourc,vector_SA['x'],vector_SA['y'],A_sa_slice,A_4C_gt,volume_affine)\n",
    "intersect_direct = ff.normalize(intersect_direct)\n",
    "print(intersect_direct)\n",
    "\n",
    "# in case that the intersect_direct is in wrong side of wall but far away from LV\n",
    "count,p_LV = ff.count_pixel(fourc,1)\n",
    "cg = np.sum(p_LV,axis = 0)/count\n",
    "\n",
    "# find a point in inferoseptal wall, which we know is in negative x direction of cg \n",
    "direction = -1 # -1 if negative x direction, 1 is positive\n",
    "\n",
    "if np.sign(direction) == np.sign(intersect_direct[0]):\n",
    "    increment_sign = 1\n",
    "else:\n",
    "    increment_sign = -1\n",
    "\n",
    "i = 1\n",
    "while(1):\n",
    "    point = intersect_point + intersect_direct * increment_sign * i\n",
    "    i += 1\n",
    "    if inter(point) != 1 and np.sign(point[0] - cg[0]) == np.sign(direction):\n",
    "        wall_point = point + intersect_direct * increment_sign * 5\n",
    "        break\n",
    "print(intersect_point,cg, wall_point)"
   ]
  },
  {
   "cell_type": "code",
   "execution_count": 209,
   "metadata": {},
   "outputs": [
    {
     "name": "stdout",
     "output_type": "stream",
     "text": [
      "179.54223226444887\n"
     ]
    }
   ],
   "source": [
    "# find the rotation angle\n",
    "mpr_center = np.array([(mpr_shape[0]-1)/2,(mpr_shape[1]-1)/2,0])\n",
    "final_dest_point = np.array([(mpr_shape[0]-1)/2 + 20,(mpr_shape[1]-1)/2,0]) # 6 o'clock in SAX\n",
    "\n",
    "ii = 30\n",
    "wall_point_in_sa = ff.convert_coordinates(A_sa,A_4C_gt,wall_point)\n",
    "\n",
    "rotate_angle = ff.angle(final_dest_point-mpr_center,wall_point_in_sa-mpr_center)\n",
    "print(rotate_angle)"
   ]
  },
  {
   "cell_type": "code",
   "execution_count": 210,
   "metadata": {},
   "outputs": [
    {
     "name": "stdout",
     "output_type": "stream",
     "text": [
      "final_affine_matrix is\n",
      " [[-0.99996808 -0.00798947  0.        ]\n",
      " [ 0.00798947 -0.99996808  0.        ]\n",
      " [ 0.          0.          1.        ]]\n",
      "final_offset is\n",
      " [160.63660423 159.35828916   0.        ]\n"
     ]
    }
   ],
   "source": [
    "# now try to rotate the image\n",
    "# define transform matrix\n",
    "alpha=0 / 180 * math.pi\n",
    "beta=0 / 180 * math.pi\n",
    "gamma=rotate_angle / 180 * math.pi # correct one\n",
    "translation=np.array([[1,0,0,0],\n",
    "                     [0,1,0,0],\n",
    "                     [0,0,1,0],\n",
    "                     [0,0,0,1]])\n",
    "scale=np.array([[1,0,0,0],\n",
    "                     [0,1,0,0],\n",
    "                     [0,0,1,0],\n",
    "                     [0,0,0,1]])\n",
    "rotation_by_x=np.array([[1,0,0,0],\n",
    "                        [0,np.cos(alpha),-np.sin(alpha),0],\n",
    "                        [0,np.sin(alpha),np.cos(alpha),0],\n",
    "                        [0,0,0,1]])\n",
    "rotation_by_y=np.array([[np.cos(beta),0,np.sin(beta),0],\n",
    "                        [0,1,0,0],\n",
    "                        [-np.sin(beta),0,np.cos(beta),0],\n",
    "                        [0,0,0,1]])\n",
    "rotation_by_z=np.array([[np.cos(gamma),-np.sin(gamma),0,0],\n",
    "                        [np.sin(gamma),np.cos(gamma),0,0],\n",
    "                        [0,0,1,0],\n",
    "                        [0,0,0,1]])\n",
    "transform_matrix=np.dot(rotation_by_z,np.dot(rotation_by_y,np.dot(rotation_by_x,np.dot(translation,scale))))\n",
    "#transform_offset_center\n",
    "def transform_full_matrix_offset_center(matrix, shape):\n",
    "    shape = np.array([float(s) / 2.0  for s in shape])\n",
    "    for_mat = np.eye(len(shape) + 1)\n",
    "    rev_mat = np.eye(len(shape) + 1)\n",
    "    for_mat[:-1, -1] = +shape\n",
    "    rev_mat[:-1, -1] = -shape\n",
    "    return np.dot(np.dot(for_mat, matrix), rev_mat)\n",
    "\n",
    "transform_matrix_offset=transform_full_matrix_offset_center(transform_matrix,sa_stack.shape)\n",
    "transform_matrix_offset_cropped=transform_matrix_offset[:-1, :]\n",
    "final_affine_matrix = transform_matrix_offset_cropped[: sa_stack.ndim, : sa_stack.ndim]\n",
    "final_offset = transform_matrix_offset_cropped[: sa_stack.ndim, sa_stack.ndim]\n",
    "print('final_affine_matrix is\\n',final_affine_matrix)\n",
    "print('final_offset is\\n',final_offset)"
   ]
  },
  {
   "cell_type": "code",
   "execution_count": 211,
   "metadata": {},
   "outputs": [],
   "source": [
    "#apply_transform\n",
    "from scipy.ndimage.interpolation import affine_transform\n",
    "new_stack=affine_transform(\n",
    "        sa_stack, final_affine_matrix, final_offset, order=0,mode=\"constant\", cval=sa_stack.min())"
   ]
  },
  {
   "cell_type": "code",
   "execution_count": 215,
   "metadata": {},
   "outputs": [
    {
     "data": {
      "text/plain": [
       "<matplotlib.image.AxesImage at 0xb34c2a4a8>"
      ]
     },
     "execution_count": 215,
     "metadata": {},
     "output_type": "execute_result"
    },
    {
     "data": {
      "image/png": "[encoded data removed]",
      "text/plain": [
       "<Figure size 432x288 with 1 Axes>"
      ]
     },
     "metadata": {
      "needs_background": "light"
     },
     "output_type": "display_data"
    }
   ],
   "source": [
    "ii = 20\n",
    "plt.imshow(sa_stack[:,:,ii],cmap='gray')"
   ]
  },
  {
   "cell_type": "code",
   "execution_count": 216,
   "metadata": {},
   "outputs": [
    {
     "data": {
      "text/plain": [
       "<matplotlib.image.AxesImage at 0xb34d21940>"
      ]
     },
     "execution_count": 216,
     "metadata": {},
     "output_type": "execute_result"
    },
    {
     "data": {
      "image/png": "[encoded data removed]",
      "text/plain": [
       "<Figure size 432x288 with 1 Axes>"
      ]
     },
     "metadata": {
      "needs_background": "light"
     },
     "output_type": "display_data"
    }
   ],
   "source": [
    "plt.imshow(new_stack[:,:,ii],cmap='gray')"
   ]
  },
  {
   "cell_type": "code",
   "execution_count": null,
   "metadata": {},
   "outputs": [],
   "source": []
  }
 ],
 "metadata": {
  "kernelspec": {
   "display_name": "Python 3",
   "language": "python",
   "name": "python3"
  },
  "language_info": {
   "codemirror_mode": {
    "name": "ipython",
    "version": 3
   },
   "file_extension": ".py",
   "mimetype": "text/x-python",
   "name": "python",
   "nbconvert_exporter": "python",
   "pygments_lexer": "ipython3",
   "version": "3.6.10"
  }
 },
 "nbformat": 4,
 "nbformat_minor": 4
}
